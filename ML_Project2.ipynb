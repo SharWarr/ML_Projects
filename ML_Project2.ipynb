{
  "cells": [
    {
      "cell_type": "markdown",
      "metadata": {
        "id": "view-in-github",
        "colab_type": "text"
      },
      "source": [
        "<a href=\"https://colab.research.google.com/github/SharWarr/ML_Projects/blob/main/ML_Project2.ipynb\" target=\"_parent\"><img src=\"https://colab.research.google.com/assets/colab-badge.svg\" alt=\"Open In Colab\"/></a>"
      ]
    },
    {
      "cell_type": "markdown",
      "metadata": {
        "id": "9kHqIV-Orw8U"
      },
      "source": [
        "## Import libraries:\n"
      ]
    },
    {
      "cell_type": "code",
      "source": [
        "import pandas as pd"
      ],
      "metadata": {
        "id": "8UnZwHG_ugOE"
      },
      "execution_count": 24,
      "outputs": []
    },
    {
      "cell_type": "code",
      "source": [
        "from sklearn.model_selection import train_test_split"
      ],
      "metadata": {
        "id": "PwnOfZlqwth3"
      },
      "execution_count": 36,
      "outputs": []
    },
    {
      "cell_type": "code",
      "source": [
        "!pip install pyspark"
      ],
      "metadata": {
        "colab": {
          "base_uri": "https://localhost:8080/"
        },
        "id": "DxxMpY9KsCli",
        "outputId": "cd61d8f7-2ddb-42a7-f92c-4db87ebf4fc6"
      },
      "execution_count": 4,
      "outputs": [
        {
          "output_type": "stream",
          "name": "stdout",
          "text": [
            "Looking in indexes: https://pypi.org/simple, https://us-python.pkg.dev/colab-wheels/public/simple/\n",
            "Collecting pyspark\n",
            "  Downloading pyspark-3.3.1.tar.gz (281.4 MB)\n",
            "\u001b[K     |████████████████████████████████| 281.4 MB 47 kB/s \n",
            "\u001b[?25hCollecting py4j==0.10.9.5\n",
            "  Downloading py4j-0.10.9.5-py2.py3-none-any.whl (199 kB)\n",
            "\u001b[K     |████████████████████████████████| 199 kB 57.1 MB/s \n",
            "\u001b[?25hBuilding wheels for collected packages: pyspark\n",
            "  Building wheel for pyspark (setup.py) ... \u001b[?25l\u001b[?25hdone\n",
            "  Created wheel for pyspark: filename=pyspark-3.3.1-py2.py3-none-any.whl size=281845512 sha256=ef4b821f4864ab4a42fa85c673b05f471fe78598f7b4d4230d7c840330a79fdd\n",
            "  Stored in directory: /root/.cache/pip/wheels/42/59/f5/79a5bf931714dcd201b26025347785f087370a10a3329a899c\n",
            "Successfully built pyspark\n",
            "Installing collected packages: py4j, pyspark\n",
            "Successfully installed py4j-0.10.9.5 pyspark-3.3.1\n"
          ]
        }
      ]
    },
    {
      "cell_type": "code",
      "execution_count": 5,
      "metadata": {
        "id": "0qizA3a9rw8W"
      },
      "outputs": [],
      "source": [
        "import pyspark\n",
        "from pyspark.ml.evaluation import RegressionEvaluator\n",
        "from pyspark.ml.recommendation import ALS\n",
        "from pyspark.sql import Row\n",
        "from pyspark.sql import SparkSession"
      ]
    },
    {
      "cell_type": "code",
      "execution_count": 6,
      "metadata": {
        "id": "bvtBo0RWrw8Y"
      },
      "outputs": [],
      "source": [
        "spark = SparkSession.builder.appName(\"als\").getOrCreate()"
      ]
    },
    {
      "cell_type": "markdown",
      "metadata": {
        "id": "9ydjJpOXrw8Y"
      },
      "source": [
        "## Load Movie Ratings Data"
      ]
    },
    {
      "cell_type": "code",
      "execution_count": 8,
      "metadata": {
        "id": "eL7VgHfbrw8Z"
      },
      "outputs": [],
      "source": [
        "# Load the ratings data into a dataframe\n",
        "ratings = spark.read.csv(\"/content/ratings.csv\",inferSchema=True, header=True)"
      ]
    },
    {
      "cell_type": "code",
      "execution_count": 11,
      "metadata": {
        "colab": {
          "base_uri": "https://localhost:8080/"
        },
        "id": "UmHZx0-2rw8Z",
        "outputId": "026bd2d1-7086-40b8-dcfb-64f7533f5ac8"
      },
      "outputs": [
        {
          "output_type": "execute_result",
          "data": {
            "text/plain": [
              "DataFrame[userId: int, movieId: int, rating: double, timestamp: int]"
            ]
          },
          "metadata": {},
          "execution_count": 11
        }
      ],
      "source": [
        "# Print the ratings dataframe\n",
        "ratings"
      ]
    },
    {
      "cell_type": "code",
      "execution_count": 12,
      "metadata": {
        "id": "K1VA9-QCrw8Z"
      },
      "outputs": [],
      "source": [
        "# Drop the timestamp column from the ratings dataframe.\n",
        "ratings = ratings.drop('timestamp')"
      ]
    },
    {
      "cell_type": "code",
      "execution_count": 109,
      "metadata": {
        "colab": {
          "base_uri": "https://localhost:8080/"
        },
        "id": "V_sSGekTrw8a",
        "outputId": "180e02f6-1c3c-40ce-95f6-6e9a0c8d3ee8"
      },
      "outputs": [
        {
          "output_type": "execute_result",
          "data": {
            "text/plain": [
              "372362"
            ]
          },
          "metadata": {},
          "execution_count": 109
        }
      ],
      "source": [
        "# Print the rating dataframe after dropping the timestamp column.\n",
        "ratings\n",
        "ratings.count()"
      ]
    },
    {
      "cell_type": "markdown",
      "metadata": {
        "id": "Rea9Mwtdrw8a"
      },
      "source": [
        "## Load New User Data"
      ]
    },
    {
      "cell_type": "code",
      "execution_count": 15,
      "metadata": {
        "id": "BIc0ac7Xrw8b"
      },
      "outputs": [],
      "source": [
        "# Load the New user's ratings data into a dataframe New_user_rating\n",
        "New_user_rating = spark.read.csv(\"/content/New_user_rating.csv\",inferSchema=True, header=True)"
      ]
    },
    {
      "cell_type": "code",
      "source": [
        "New_user_rating\n",
        "New_user_rating.count()"
      ],
      "metadata": {
        "colab": {
          "base_uri": "https://localhost:8080/"
        },
        "id": "BS2hZvOEtleE",
        "outputId": "5efae89f-da69-409c-c5f2-d675aa30b68f"
      },
      "execution_count": 108,
      "outputs": [
        {
          "output_type": "execute_result",
          "data": {
            "text/plain": [
              "50"
            ]
          },
          "metadata": {},
          "execution_count": 108
        }
      ]
    },
    {
      "cell_type": "markdown",
      "metadata": {
        "id": "MFxecrQ9rw8b"
      },
      "source": [
        "## Concatenate the Movie Rating data with new user Data."
      ]
    },
    {
      "cell_type": "code",
      "execution_count": 104,
      "metadata": {
        "id": "4G66RFDFrw8c"
      },
      "outputs": [],
      "source": [
        "# Concatenate the ratings and New_user_rating dataframes into single dataframe.\n",
        "rating_final = ratings.union(New_user_rating)"
      ]
    },
    {
      "cell_type": "code",
      "execution_count": 107,
      "metadata": {
        "colab": {
          "base_uri": "https://localhost:8080/"
        },
        "id": "eboVLiKNrw8c",
        "outputId": "55f21424-963d-4a4d-ba50-827c9d066609"
      },
      "outputs": [
        {
          "output_type": "execute_result",
          "data": {
            "text/plain": [
              "372412"
            ]
          },
          "metadata": {},
          "execution_count": 107
        }
      ],
      "source": [
        "# Describe the \"rating_final\" dataframe.\n",
        "rating_final.count()"
      ]
    },
    {
      "cell_type": "code",
      "source": [
        "from pyspark.sql.functions import mean\n",
        "rating_final.describe().show()"
      ],
      "metadata": {
        "colab": {
          "base_uri": "https://localhost:8080/"
        },
        "id": "vXteQeUBvM09",
        "outputId": "a12232e6-e7f6-426f-857a-d69a4a687530"
      },
      "execution_count": 110,
      "outputs": [
        {
          "output_type": "stream",
          "name": "stdout",
          "text": [
            "+-------+------------------+------------------+------------------+\n",
            "|summary|            userId|           movieId|            rating|\n",
            "+-------+------------------+------------------+------------------+\n",
            "|  count|            372412|            372412|            372412|\n",
            "|   mean| 1336.377920152949|20936.295890035766|3.5561125849865203|\n",
            "| stddev|2005.2416952567514| 38743.81856613659|1.0494478377380205|\n",
            "|    min|                 1|                 1|               0.5|\n",
            "|    max|            162542|            208793|               5.0|\n",
            "+-------+------------------+------------------+------------------+\n",
            "\n"
          ]
        }
      ]
    },
    {
      "cell_type": "markdown",
      "metadata": {
        "id": "W-xuMQ4Nrw8d"
      },
      "source": [
        "## Load Movies Data"
      ]
    },
    {
      "cell_type": "code",
      "execution_count": 31,
      "metadata": {
        "id": "c74zH4Qtrw8d"
      },
      "outputs": [],
      "source": [
        "# Load the Movies data into a dataframe\n",
        "movies = spark.read.csv(\"/content/movies.csv\",inferSchema=True, header=True)"
      ]
    },
    {
      "cell_type": "code",
      "execution_count": 33,
      "metadata": {
        "colab": {
          "base_uri": "https://localhost:8080/"
        },
        "id": "Jit_1FZrrw8d",
        "outputId": "876f3592-8823-4cb6-c557-36f5acde7f45"
      },
      "outputs": [
        {
          "output_type": "execute_result",
          "data": {
            "text/plain": [
              "[Row(movieId=1, title='Toy Story (1995)', genres='Adventure|Animation|Children|Comedy|Fantasy'),\n",
              " Row(movieId=2, title='Jumanji (1995)', genres='Adventure|Children|Fantasy'),\n",
              " Row(movieId=3, title='Grumpier Old Men (1995)', genres='Comedy|Romance'),\n",
              " Row(movieId=4, title='Waiting to Exhale (1995)', genres='Comedy|Drama|Romance'),\n",
              " Row(movieId=5, title='Father of the Bride Part II (1995)', genres='Comedy')]"
            ]
          },
          "metadata": {},
          "execution_count": 33
        }
      ],
      "source": [
        "# Print the Movies data.\n",
        "movies.head(5)"
      ]
    },
    {
      "cell_type": "code",
      "source": [
        "ratings.head(5)"
      ],
      "metadata": {
        "colab": {
          "base_uri": "https://localhost:8080/"
        },
        "id": "Iy5ohb7hwYBo",
        "outputId": "b3ff9c09-74dd-4568-8a8f-995f10e84ce8"
      },
      "execution_count": 34,
      "outputs": [
        {
          "output_type": "execute_result",
          "data": {
            "text/plain": [
              "[Row(userId=1, movieId=296, rating=5.0),\n",
              " Row(userId=1, movieId=306, rating=3.5),\n",
              " Row(userId=1, movieId=307, rating=5.0),\n",
              " Row(userId=1, movieId=665, rating=5.0),\n",
              " Row(userId=1, movieId=899, rating=3.5)]"
            ]
          },
          "metadata": {},
          "execution_count": 34
        }
      ]
    },
    {
      "cell_type": "code",
      "source": [
        "New_user_rating.head(5)"
      ],
      "metadata": {
        "colab": {
          "base_uri": "https://localhost:8080/"
        },
        "id": "84ndNWWywb6A",
        "outputId": "5c49d9d4-c6a6-4b19-b5fe-9fe57f419f2a"
      },
      "execution_count": 35,
      "outputs": [
        {
          "output_type": "execute_result",
          "data": {
            "text/plain": [
              "[Row(userId=162542, movieId=85788, rating=3.5),\n",
              " Row(userId=162542, movieId=104908, rating=3.0),\n",
              " Row(userId=162542, movieId=109487, rating=4.5),\n",
              " Row(userId=162542, movieId=8533, rating=4.0),\n",
              " Row(userId=162542, movieId=4995, rating=3.5)]"
            ]
          },
          "metadata": {},
          "execution_count": 35
        }
      ]
    },
    {
      "cell_type": "markdown",
      "metadata": {
        "id": "-cSATuWbrw8e"
      },
      "source": [
        "## Split the Rating data to Train & Test set"
      ]
    },
    {
      "cell_type": "code",
      "source": [
        "x = rating_final.drop('rating')\n",
        "y = rating_final.drop('userId','movieId')"
      ],
      "metadata": {
        "id": "oNDXeYizw5Ke"
      },
      "execution_count": 47,
      "outputs": []
    },
    {
      "cell_type": "code",
      "source": [
        "x.head(5)"
      ],
      "metadata": {
        "colab": {
          "base_uri": "https://localhost:8080/"
        },
        "id": "w6agVFW8xWCl",
        "outputId": "b2df7ed3-ef3d-4633-8d36-dda80618b075"
      },
      "execution_count": 48,
      "outputs": [
        {
          "output_type": "execute_result",
          "data": {
            "text/plain": [
              "[Row(userId=1, movieId=296),\n",
              " Row(userId=1, movieId=306),\n",
              " Row(userId=1, movieId=307),\n",
              " Row(userId=1, movieId=665),\n",
              " Row(userId=1, movieId=899)]"
            ]
          },
          "metadata": {},
          "execution_count": 48
        }
      ]
    },
    {
      "cell_type": "code",
      "source": [
        "y.head(5)"
      ],
      "metadata": {
        "colab": {
          "base_uri": "https://localhost:8080/"
        },
        "id": "bOeHYTnSxY61",
        "outputId": "f366c7ee-f2eb-4354-c764-cc12d4f331b8"
      },
      "execution_count": 49,
      "outputs": [
        {
          "output_type": "execute_result",
          "data": {
            "text/plain": [
              "[Row(rating=5.0),\n",
              " Row(rating=3.5),\n",
              " Row(rating=5.0),\n",
              " Row(rating=5.0),\n",
              " Row(rating=3.5)]"
            ]
          },
          "metadata": {},
          "execution_count": 49
        }
      ]
    },
    {
      "cell_type": "code",
      "execution_count": 72,
      "metadata": {
        "id": "QHW_4I3_rw8e"
      },
      "outputs": [],
      "source": [
        "# Split the \"rating_final\" data into training and test data.\n",
        "(training,validation,test) = rating_final.randomSplit([0.6, 0.2,0.2], seed=26)"
      ]
    },
    {
      "cell_type": "code",
      "source": [
        "training.show()\n"
      ],
      "metadata": {
        "colab": {
          "base_uri": "https://localhost:8080/"
        },
        "id": "3rk5irqp0C9W",
        "outputId": "4fbb5058-8d24-4090-c2b4-bbb00cf33097"
      },
      "execution_count": 73,
      "outputs": [
        {
          "output_type": "stream",
          "name": "stdout",
          "text": [
            "+------+-------+------+\n",
            "|userId|movieId|rating|\n",
            "+------+-------+------+\n",
            "|     1|    296|   5.0|\n",
            "|     1|    307|   5.0|\n",
            "|     1|    665|   5.0|\n",
            "|     1|    899|   3.5|\n",
            "|     1|   1175|   3.5|\n",
            "|     1|   1217|   3.5|\n",
            "|     1|   1250|   4.0|\n",
            "|     1|   1260|   3.5|\n",
            "|     1|   1653|   4.0|\n",
            "|     1|   2011|   2.5|\n",
            "|     1|   2068|   2.5|\n",
            "|     1|   2351|   4.5|\n",
            "|     1|   2573|   4.0|\n",
            "|     1|   2632|   5.0|\n",
            "|     1|   2692|   5.0|\n",
            "|     1|   3448|   4.0|\n",
            "|     1|   3569|   5.0|\n",
            "|     1|   3949|   5.0|\n",
            "|     1|   4144|   5.0|\n",
            "|     1|   4308|   3.0|\n",
            "+------+-------+------+\n",
            "only showing top 20 rows\n",
            "\n"
          ]
        }
      ]
    },
    {
      "cell_type": "code",
      "source": [
        "validation.show()"
      ],
      "metadata": {
        "colab": {
          "base_uri": "https://localhost:8080/"
        },
        "id": "dGdNjrnY0K0_",
        "outputId": "d58bdf11-2393-4102-80bb-2bb776a4056f"
      },
      "execution_count": 74,
      "outputs": [
        {
          "output_type": "stream",
          "name": "stdout",
          "text": [
            "+------+-------+------+\n",
            "|userId|movieId|rating|\n",
            "+------+-------+------+\n",
            "|     1|   1088|   4.0|\n",
            "|     1|   1237|   5.0|\n",
            "|     1|   2012|   2.5|\n",
            "|     1|   2843|   4.5|\n",
            "|     1|   5269|   0.5|\n",
            "|     1|   5684|   2.0|\n",
            "|     1|   6711|   5.0|\n",
            "|     1|   6954|   3.5|\n",
            "|     1|   7318|   2.0|\n",
            "|     1|   7361|   5.0|\n",
            "|     1|   7820|   2.5|\n",
            "|     1|   7938|   2.5|\n",
            "|     1|   8685|   1.0|\n",
            "|     1|   8873|   3.0|\n",
            "|     1|   8973|   4.0|\n",
            "|     1|  27193|   3.0|\n",
            "|     1|  32591|   5.0|\n",
            "|     2|     62|   0.5|\n",
            "|     2|    150|   4.0|\n",
            "|     2|    333|   5.0|\n",
            "+------+-------+------+\n",
            "only showing top 20 rows\n",
            "\n"
          ]
        }
      ]
    },
    {
      "cell_type": "code",
      "source": [
        "test.show()"
      ],
      "metadata": {
        "colab": {
          "base_uri": "https://localhost:8080/"
        },
        "id": "2NItOtZ20IHk",
        "outputId": "d19c7929-99d8-449a-fcbf-24038e77f98a"
      },
      "execution_count": 75,
      "outputs": [
        {
          "output_type": "stream",
          "name": "stdout",
          "text": [
            "+------+-------+------+\n",
            "|userId|movieId|rating|\n",
            "+------+-------+------+\n",
            "|     1|    306|   3.5|\n",
            "|     1|   2161|   3.5|\n",
            "|     1|   5147|   4.0|\n",
            "|     1|   6377|   4.0|\n",
            "|     1|   7323|   3.5|\n",
            "|     1|   7939|   2.5|\n",
            "|     1|   7940|   4.5|\n",
            "|     2|    110|   5.0|\n",
            "|     2|    151|   4.5|\n",
            "|     2|    349|   4.5|\n",
            "|     2|    553|   2.0|\n",
            "|     2|    653|   3.0|\n",
            "|     2|    858|   3.5|\n",
            "|     2|    914|   4.0|\n",
            "|     2|   1035|   1.0|\n",
            "|     2|   1197|   5.0|\n",
            "|     2|   1210|   5.0|\n",
            "|     2|   1246|   4.0|\n",
            "|     2|   1291|   5.0|\n",
            "|     2|   1485|   3.0|\n",
            "+------+-------+------+\n",
            "only showing top 20 rows\n",
            "\n"
          ]
        }
      ]
    },
    {
      "cell_type": "markdown",
      "metadata": {
        "id": "aEKsbsQurw8e"
      },
      "source": [
        "## ALS Model Building with iteration value = 3"
      ]
    },
    {
      "cell_type": "code",
      "execution_count": 76,
      "metadata": {
        "id": "M-kM2o5qrw8f"
      },
      "outputs": [],
      "source": [
        "# Build the ALS model.\n",
        "als = ALS(\n",
        "         userCol=\"userId\", \n",
        "         itemCol=\"movieId\",\n",
        "         ratingCol=\"rating\",\n",
        "         maxIter=5, \n",
        "         regParam=0.05,\n",
        "         nonnegative = True, \n",
        "         implicitPrefs = False,\n",
        "         coldStartStrategy=\"drop\"\n",
        ")"
      ]
    },
    {
      "cell_type": "code",
      "execution_count": 77,
      "metadata": {
        "id": "_0SosoEmrw8f"
      },
      "outputs": [],
      "source": [
        "# Print the RMSE value.\n",
        "model = als.fit(training)"
      ]
    },
    {
      "cell_type": "code",
      "source": [
        "prediction = model.transform(test)"
      ],
      "metadata": {
        "id": "arX_owHq1arE"
      },
      "execution_count": 78,
      "outputs": []
    },
    {
      "cell_type": "code",
      "source": [
        "prediction.show()"
      ],
      "metadata": {
        "colab": {
          "base_uri": "https://localhost:8080/"
        },
        "id": "TqU0R5oT1gcM",
        "outputId": "be2cf710-55ac-4a90-890c-0d75f873e433"
      },
      "execution_count": 79,
      "outputs": [
        {
          "output_type": "stream",
          "name": "stdout",
          "text": [
            "+------+-------+------+----------+\n",
            "|userId|movieId|rating|prediction|\n",
            "+------+-------+------+----------+\n",
            "|   148|     19|   3.0| 2.4790854|\n",
            "|   148|    318|   5.0|  4.385628|\n",
            "|   148|    541|   4.0| 4.0531034|\n",
            "|   148|    858|   4.5| 4.5477877|\n",
            "|   148|    908|   4.0|  4.132942|\n",
            "|   148|    912|   4.0| 4.2696757|\n",
            "|   148|   1178|   5.0| 4.1429768|\n",
            "|   148|   1196|   3.5| 4.1865396|\n",
            "|   148|   1212|   4.0|  4.238729|\n",
            "|   148|   1217|   3.5| 4.3237085|\n",
            "|   148|   1254|   4.0|  3.999802|\n",
            "|   148|   1284|   4.0|  4.119061|\n",
            "|   148|   1617|   4.0| 4.0856586|\n",
            "|   148|   2329|   4.0| 4.2353964|\n",
            "|   148|   2502|   4.0|   3.97389|\n",
            "|   148|   2571|   5.0|  4.051012|\n",
            "|   148|   3307|   4.0| 4.5806866|\n",
            "|   148|   4886|   4.0| 3.8758981|\n",
            "|   148|  27773|   4.5|  4.138972|\n",
            "|   148|  54286|   3.5| 3.7024207|\n",
            "+------+-------+------+----------+\n",
            "only showing top 20 rows\n",
            "\n"
          ]
        }
      ]
    },
    {
      "cell_type": "code",
      "source": [
        "evaluator = RegressionEvaluator(metricName='rmse', labelCol='rating',predictionCol='prediction')\n",
        "RMSE = evaluator.evaluate(prediction)\n",
        "print(RMSE)"
      ],
      "metadata": {
        "colab": {
          "base_uri": "https://localhost:8080/"
        },
        "id": "SdJEwUF_zJeV",
        "outputId": "6c360775-e7c8-440c-bba4-f608712ea945"
      },
      "execution_count": 81,
      "outputs": [
        {
          "output_type": "stream",
          "name": "stdout",
          "text": [
            "0.8840049731501671\n"
          ]
        }
      ]
    },
    {
      "cell_type": "markdown",
      "metadata": {
        "id": "7MeC4Nvwrw8g"
      },
      "source": [
        "## Recommend the top 20 movies to the new user with user id = 162542"
      ]
    },
    {
      "cell_type": "code",
      "execution_count": 82,
      "metadata": {
        "id": "RpnJ3K7-rw8g"
      },
      "outputs": [],
      "source": [
        "# Get the top 20 movie recommendations for all the users.\n",
        "userRecs = model.recommendForAllUsers(20)"
      ]
    },
    {
      "cell_type": "code",
      "execution_count": 83,
      "metadata": {
        "colab": {
          "base_uri": "https://localhost:8080/"
        },
        "id": "eQbkVgfvrw8h",
        "outputId": "eecab615-0210-48c8-b49c-6250b42ee1fb"
      },
      "outputs": [
        {
          "output_type": "stream",
          "name": "stdout",
          "text": [
            "+------+--------------------+\n",
            "|userId|     recommendations|\n",
            "+------+--------------------+\n",
            "|     1|[{93040, 6.019327...|\n",
            "|     3|[{144580, 5.63226...|\n",
            "|     5|[{42094, 6.096114...|\n",
            "|     6|[{42094, 6.629612...|\n",
            "|     9|[{7193, 8.283019}...|\n",
            "|    12|[{110675, 5.84665...|\n",
            "|    13|[{42094, 6.515002...|\n",
            "|    15|[{93265, 7.735002...|\n",
            "|    16|[{6837, 6.121942}...|\n",
            "|    17|[{2281, 6.8287845...|\n",
            "|    19|[{110675, 5.33438...|\n",
            "|    20|[{60103, 6.170853...|\n",
            "|    22|[{7193, 8.407098}...|\n",
            "|    26|[{26231, 6.044614...|\n",
            "|    27|[{127130, 7.35465...|\n",
            "|    28|[{47904, 7.093816...|\n",
            "|    31|[{60103, 3.885210...|\n",
            "|    34|[{8125, 6.1509423...|\n",
            "|    35|[{47904, 6.394623...|\n",
            "|    37|[{32840, 6.255139...|\n",
            "+------+--------------------+\n",
            "only showing top 20 rows\n",
            "\n"
          ]
        }
      ],
      "source": [
        "# Print the userRecs.\n",
        "userRecs.show()"
      ]
    },
    {
      "cell_type": "code",
      "execution_count": 111,
      "metadata": {
        "colab": {
          "base_uri": "https://localhost:8080/"
        },
        "id": "oCkho3Hlrw8h",
        "outputId": "8c669bd4-323c-4674-d5ae-b7d9d6f7acd2"
      },
      "outputs": [
        {
          "output_type": "stream",
          "name": "stdout",
          "text": [
            "<class 'list'>\n"
          ]
        }
      ],
      "source": [
        "# Filter the recommendations of top 10 movies for userId 162542 from \"userRecs\".\n",
        "df= userRecs.where(userRecs.userId == 162542).collect()\n",
        "print(type(df))"
      ]
    },
    {
      "cell_type": "code",
      "execution_count": 87,
      "metadata": {
        "id": "_ii2xHQ1rw8i"
      },
      "outputs": [],
      "source": [
        "# Convert the 'df' object into the dataframe.\n",
        "df = pd.DataFrame(df)"
      ]
    },
    {
      "cell_type": "code",
      "execution_count": 88,
      "metadata": {
        "colab": {
          "base_uri": "https://localhost:8080/",
          "height": 81
        },
        "id": "oLFh7ff5rw8i",
        "outputId": "4254b743-a949-452f-c3e7-f82575671299"
      },
      "outputs": [
        {
          "output_type": "execute_result",
          "data": {
            "text/plain": [
              "        0                                                  1\n",
              "0  162542  [(6783, 5.838325500488281), (7817, 5.787448883..."
            ],
            "text/html": [
              "\n",
              "  <div id=\"df-7abc13d2-3be3-429e-a258-74abd6633f94\">\n",
              "    <div class=\"colab-df-container\">\n",
              "      <div>\n",
              "<style scoped>\n",
              "    .dataframe tbody tr th:only-of-type {\n",
              "        vertical-align: middle;\n",
              "    }\n",
              "\n",
              "    .dataframe tbody tr th {\n",
              "        vertical-align: top;\n",
              "    }\n",
              "\n",
              "    .dataframe thead th {\n",
              "        text-align: right;\n",
              "    }\n",
              "</style>\n",
              "<table border=\"1\" class=\"dataframe\">\n",
              "  <thead>\n",
              "    <tr style=\"text-align: right;\">\n",
              "      <th></th>\n",
              "      <th>0</th>\n",
              "      <th>1</th>\n",
              "    </tr>\n",
              "  </thead>\n",
              "  <tbody>\n",
              "    <tr>\n",
              "      <th>0</th>\n",
              "      <td>162542</td>\n",
              "      <td>[(6783, 5.838325500488281), (7817, 5.787448883...</td>\n",
              "    </tr>\n",
              "  </tbody>\n",
              "</table>\n",
              "</div>\n",
              "      <button class=\"colab-df-convert\" onclick=\"convertToInteractive('df-7abc13d2-3be3-429e-a258-74abd6633f94')\"\n",
              "              title=\"Convert this dataframe to an interactive table.\"\n",
              "              style=\"display:none;\">\n",
              "        \n",
              "  <svg xmlns=\"http://www.w3.org/2000/svg\" height=\"24px\"viewBox=\"0 0 24 24\"\n",
              "       width=\"24px\">\n",
              "    <path d=\"M0 0h24v24H0V0z\" fill=\"none\"/>\n",
              "    <path d=\"M18.56 5.44l.94 2.06.94-2.06 2.06-.94-2.06-.94-.94-2.06-.94 2.06-2.06.94zm-11 1L8.5 8.5l.94-2.06 2.06-.94-2.06-.94L8.5 2.5l-.94 2.06-2.06.94zm10 10l.94 2.06.94-2.06 2.06-.94-2.06-.94-.94-2.06-.94 2.06-2.06.94z\"/><path d=\"M17.41 7.96l-1.37-1.37c-.4-.4-.92-.59-1.43-.59-.52 0-1.04.2-1.43.59L10.3 9.45l-7.72 7.72c-.78.78-.78 2.05 0 2.83L4 21.41c.39.39.9.59 1.41.59.51 0 1.02-.2 1.41-.59l7.78-7.78 2.81-2.81c.8-.78.8-2.07 0-2.86zM5.41 20L4 18.59l7.72-7.72 1.47 1.35L5.41 20z\"/>\n",
              "  </svg>\n",
              "      </button>\n",
              "      \n",
              "  <style>\n",
              "    .colab-df-container {\n",
              "      display:flex;\n",
              "      flex-wrap:wrap;\n",
              "      gap: 12px;\n",
              "    }\n",
              "\n",
              "    .colab-df-convert {\n",
              "      background-color: #E8F0FE;\n",
              "      border: none;\n",
              "      border-radius: 50%;\n",
              "      cursor: pointer;\n",
              "      display: none;\n",
              "      fill: #1967D2;\n",
              "      height: 32px;\n",
              "      padding: 0 0 0 0;\n",
              "      width: 32px;\n",
              "    }\n",
              "\n",
              "    .colab-df-convert:hover {\n",
              "      background-color: #E2EBFA;\n",
              "      box-shadow: 0px 1px 2px rgba(60, 64, 67, 0.3), 0px 1px 3px 1px rgba(60, 64, 67, 0.15);\n",
              "      fill: #174EA6;\n",
              "    }\n",
              "\n",
              "    [theme=dark] .colab-df-convert {\n",
              "      background-color: #3B4455;\n",
              "      fill: #D2E3FC;\n",
              "    }\n",
              "\n",
              "    [theme=dark] .colab-df-convert:hover {\n",
              "      background-color: #434B5C;\n",
              "      box-shadow: 0px 1px 3px 1px rgba(0, 0, 0, 0.15);\n",
              "      filter: drop-shadow(0px 1px 2px rgba(0, 0, 0, 0.3));\n",
              "      fill: #FFFFFF;\n",
              "    }\n",
              "  </style>\n",
              "\n",
              "      <script>\n",
              "        const buttonEl =\n",
              "          document.querySelector('#df-7abc13d2-3be3-429e-a258-74abd6633f94 button.colab-df-convert');\n",
              "        buttonEl.style.display =\n",
              "          google.colab.kernel.accessAllowed ? 'block' : 'none';\n",
              "\n",
              "        async function convertToInteractive(key) {\n",
              "          const element = document.querySelector('#df-7abc13d2-3be3-429e-a258-74abd6633f94');\n",
              "          const dataTable =\n",
              "            await google.colab.kernel.invokeFunction('convertToInteractive',\n",
              "                                                     [key], {});\n",
              "          if (!dataTable) return;\n",
              "\n",
              "          const docLinkHtml = 'Like what you see? Visit the ' +\n",
              "            '<a target=\"_blank\" href=https://colab.research.google.com/notebooks/data_table.ipynb>data table notebook</a>'\n",
              "            + ' to learn more about interactive tables.';\n",
              "          element.innerHTML = '';\n",
              "          dataTable['output_type'] = 'display_data';\n",
              "          await google.colab.output.renderOutput(dataTable, element);\n",
              "          const docLink = document.createElement('div');\n",
              "          docLink.innerHTML = docLinkHtml;\n",
              "          element.appendChild(docLink);\n",
              "        }\n",
              "      </script>\n",
              "    </div>\n",
              "  </div>\n",
              "  "
            ]
          },
          "metadata": {},
          "execution_count": 88
        }
      ],
      "source": [
        "# Print the df dataframe.\n",
        "df.head()"
      ]
    },
    {
      "cell_type": "code",
      "execution_count": 89,
      "metadata": {
        "colab": {
          "base_uri": "https://localhost:8080/"
        },
        "id": "BkdNNl26rw8i",
        "outputId": "965c0a56-f9d4-4aa4-f9e2-5cf7a8342e3f"
      },
      "outputs": [
        {
          "output_type": "stream",
          "name": "stdout",
          "text": [
            "+--------------------+--------------------+--------------------+--------------------+--------------------+--------------------+--------------------+--------------------+--------------------+--------------------+--------------------+--------------------+--------------------+--------------------+--------------------+--------------------+--------------------+--------------------+--------------------+--------------------+\n",
            "|                  _1|                  _2|                  _3|                  _4|                  _5|                  _6|                  _7|                  _8|                  _9|                 _10|                 _11|                 _12|                 _13|                 _14|                 _15|                 _16|                 _17|                 _18|                 _19|                 _20|\n",
            "+--------------------+--------------------+--------------------+--------------------+--------------------+--------------------+--------------------+--------------------+--------------------+--------------------+--------------------+--------------------+--------------------+--------------------+--------------------+--------------------+--------------------+--------------------+--------------------+--------------------+\n",
            "|{6783, 5.83832550...|{7817, 5.78744888...|{2281, 5.70050907...|{1306, 5.68323564...|{8938, 5.38522243...|{149, 5.284942150...|{6428, 5.24378490...|{32582, 5.1256489...|{3543, 5.11967611...|{4450, 5.10552263...|{1226, 5.10373020...|{4741, 5.08006143...|{1604, 5.08001804...|{525, 5.061509609...|{2482, 5.02615165...|{7486, 5.00211572...|{72039, 4.9912796...|{40, 4.9896988868...|{3787, 4.98562765...|{3158, 4.90989780...|\n",
            "+--------------------+--------------------+--------------------+--------------------+--------------------+--------------------+--------------------+--------------------+--------------------+--------------------+--------------------+--------------------+--------------------+--------------------+--------------------+--------------------+--------------------+--------------------+--------------------+--------------------+\n",
            "\n"
          ]
        }
      ],
      "source": [
        "# Get the recommended movies for the userId 162542 into df1 list.\n",
        "df1 = df.head()[1]\n",
        "\n",
        "#convert the df1 into dataframe.\n",
        "df1= spark.createDataFrame(df1)\n",
        "df1.show()"
      ]
    },
    {
      "cell_type": "code",
      "execution_count": 92,
      "metadata": {
        "id": "dPz9YJj1rw8j"
      },
      "outputs": [],
      "source": [
        "# Join the df1 dataframe with movies data to see the name of the recommended movies.\n",
        "userRecs_joined = df1.join(movies)"
      ]
    },
    {
      "cell_type": "code",
      "execution_count": 93,
      "metadata": {
        "colab": {
          "base_uri": "https://localhost:8080/"
        },
        "id": "nC8anE-Frw8j",
        "outputId": "8e2049e0-74b0-4302-da66-b6add48d41bf"
      },
      "outputs": [
        {
          "output_type": "stream",
          "name": "stdout",
          "text": [
            "+--------------------+--------------------+--------------------+--------------------+--------------------+--------------------+--------------------+--------------------+--------------------+--------------------+--------------------+--------------------+--------------------+--------------------+--------------------+--------------------+--------------------+--------------------+--------------------+--------------------+-------+--------------------+--------------------+\n",
            "|                  _1|                  _2|                  _3|                  _4|                  _5|                  _6|                  _7|                  _8|                  _9|                 _10|                 _11|                 _12|                 _13|                 _14|                 _15|                 _16|                 _17|                 _18|                 _19|                 _20|movieId|               title|              genres|\n",
            "+--------------------+--------------------+--------------------+--------------------+--------------------+--------------------+--------------------+--------------------+--------------------+--------------------+--------------------+--------------------+--------------------+--------------------+--------------------+--------------------+--------------------+--------------------+--------------------+--------------------+-------+--------------------+--------------------+\n",
            "|{6783, 5.83832550...|{7817, 5.78744888...|{2281, 5.70050907...|{1306, 5.68323564...|{8938, 5.38522243...|{149, 5.284942150...|{6428, 5.24378490...|{32582, 5.1256489...|{3543, 5.11967611...|{4450, 5.10552263...|{1226, 5.10373020...|{4741, 5.08006143...|{1604, 5.08001804...|{525, 5.061509609...|{2482, 5.02615165...|{7486, 5.00211572...|{72039, 4.9912796...|{40, 4.9896988868...|{3787, 4.98562765...|{3158, 4.90989780...|      1|    Toy Story (1995)|Adventure|Animati...|\n",
            "|{6783, 5.83832550...|{7817, 5.78744888...|{2281, 5.70050907...|{1306, 5.68323564...|{8938, 5.38522243...|{149, 5.284942150...|{6428, 5.24378490...|{32582, 5.1256489...|{3543, 5.11967611...|{4450, 5.10552263...|{1226, 5.10373020...|{4741, 5.08006143...|{1604, 5.08001804...|{525, 5.061509609...|{2482, 5.02615165...|{7486, 5.00211572...|{72039, 4.9912796...|{40, 4.9896988868...|{3787, 4.98562765...|{3158, 4.90989780...|      2|      Jumanji (1995)|Adventure|Childre...|\n",
            "|{6783, 5.83832550...|{7817, 5.78744888...|{2281, 5.70050907...|{1306, 5.68323564...|{8938, 5.38522243...|{149, 5.284942150...|{6428, 5.24378490...|{32582, 5.1256489...|{3543, 5.11967611...|{4450, 5.10552263...|{1226, 5.10373020...|{4741, 5.08006143...|{1604, 5.08001804...|{525, 5.061509609...|{2482, 5.02615165...|{7486, 5.00211572...|{72039, 4.9912796...|{40, 4.9896988868...|{3787, 4.98562765...|{3158, 4.90989780...|      3|Grumpier Old Men ...|      Comedy|Romance|\n",
            "|{6783, 5.83832550...|{7817, 5.78744888...|{2281, 5.70050907...|{1306, 5.68323564...|{8938, 5.38522243...|{149, 5.284942150...|{6428, 5.24378490...|{32582, 5.1256489...|{3543, 5.11967611...|{4450, 5.10552263...|{1226, 5.10373020...|{4741, 5.08006143...|{1604, 5.08001804...|{525, 5.061509609...|{2482, 5.02615165...|{7486, 5.00211572...|{72039, 4.9912796...|{40, 4.9896988868...|{3787, 4.98562765...|{3158, 4.90989780...|      4|Waiting to Exhale...|Comedy|Drama|Romance|\n",
            "|{6783, 5.83832550...|{7817, 5.78744888...|{2281, 5.70050907...|{1306, 5.68323564...|{8938, 5.38522243...|{149, 5.284942150...|{6428, 5.24378490...|{32582, 5.1256489...|{3543, 5.11967611...|{4450, 5.10552263...|{1226, 5.10373020...|{4741, 5.08006143...|{1604, 5.08001804...|{525, 5.061509609...|{2482, 5.02615165...|{7486, 5.00211572...|{72039, 4.9912796...|{40, 4.9896988868...|{3787, 4.98562765...|{3158, 4.90989780...|      5|Father of the Bri...|              Comedy|\n",
            "|{6783, 5.83832550...|{7817, 5.78744888...|{2281, 5.70050907...|{1306, 5.68323564...|{8938, 5.38522243...|{149, 5.284942150...|{6428, 5.24378490...|{32582, 5.1256489...|{3543, 5.11967611...|{4450, 5.10552263...|{1226, 5.10373020...|{4741, 5.08006143...|{1604, 5.08001804...|{525, 5.061509609...|{2482, 5.02615165...|{7486, 5.00211572...|{72039, 4.9912796...|{40, 4.9896988868...|{3787, 4.98562765...|{3158, 4.90989780...|      6|         Heat (1995)|Action|Crime|Thri...|\n",
            "|{6783, 5.83832550...|{7817, 5.78744888...|{2281, 5.70050907...|{1306, 5.68323564...|{8938, 5.38522243...|{149, 5.284942150...|{6428, 5.24378490...|{32582, 5.1256489...|{3543, 5.11967611...|{4450, 5.10552263...|{1226, 5.10373020...|{4741, 5.08006143...|{1604, 5.08001804...|{525, 5.061509609...|{2482, 5.02615165...|{7486, 5.00211572...|{72039, 4.9912796...|{40, 4.9896988868...|{3787, 4.98562765...|{3158, 4.90989780...|      7|      Sabrina (1995)|      Comedy|Romance|\n",
            "|{6783, 5.83832550...|{7817, 5.78744888...|{2281, 5.70050907...|{1306, 5.68323564...|{8938, 5.38522243...|{149, 5.284942150...|{6428, 5.24378490...|{32582, 5.1256489...|{3543, 5.11967611...|{4450, 5.10552263...|{1226, 5.10373020...|{4741, 5.08006143...|{1604, 5.08001804...|{525, 5.061509609...|{2482, 5.02615165...|{7486, 5.00211572...|{72039, 4.9912796...|{40, 4.9896988868...|{3787, 4.98562765...|{3158, 4.90989780...|      8| Tom and Huck (1995)|  Adventure|Children|\n",
            "|{6783, 5.83832550...|{7817, 5.78744888...|{2281, 5.70050907...|{1306, 5.68323564...|{8938, 5.38522243...|{149, 5.284942150...|{6428, 5.24378490...|{32582, 5.1256489...|{3543, 5.11967611...|{4450, 5.10552263...|{1226, 5.10373020...|{4741, 5.08006143...|{1604, 5.08001804...|{525, 5.061509609...|{2482, 5.02615165...|{7486, 5.00211572...|{72039, 4.9912796...|{40, 4.9896988868...|{3787, 4.98562765...|{3158, 4.90989780...|      9| Sudden Death (1995)|              Action|\n",
            "|{6783, 5.83832550...|{7817, 5.78744888...|{2281, 5.70050907...|{1306, 5.68323564...|{8938, 5.38522243...|{149, 5.284942150...|{6428, 5.24378490...|{32582, 5.1256489...|{3543, 5.11967611...|{4450, 5.10552263...|{1226, 5.10373020...|{4741, 5.08006143...|{1604, 5.08001804...|{525, 5.061509609...|{2482, 5.02615165...|{7486, 5.00211572...|{72039, 4.9912796...|{40, 4.9896988868...|{3787, 4.98562765...|{3158, 4.90989780...|     10|    GoldenEye (1995)|Action|Adventure|...|\n",
            "|{6783, 5.83832550...|{7817, 5.78744888...|{2281, 5.70050907...|{1306, 5.68323564...|{8938, 5.38522243...|{149, 5.284942150...|{6428, 5.24378490...|{32582, 5.1256489...|{3543, 5.11967611...|{4450, 5.10552263...|{1226, 5.10373020...|{4741, 5.08006143...|{1604, 5.08001804...|{525, 5.061509609...|{2482, 5.02615165...|{7486, 5.00211572...|{72039, 4.9912796...|{40, 4.9896988868...|{3787, 4.98562765...|{3158, 4.90989780...|     11|American Presiden...|Comedy|Drama|Romance|\n",
            "|{6783, 5.83832550...|{7817, 5.78744888...|{2281, 5.70050907...|{1306, 5.68323564...|{8938, 5.38522243...|{149, 5.284942150...|{6428, 5.24378490...|{32582, 5.1256489...|{3543, 5.11967611...|{4450, 5.10552263...|{1226, 5.10373020...|{4741, 5.08006143...|{1604, 5.08001804...|{525, 5.061509609...|{2482, 5.02615165...|{7486, 5.00211572...|{72039, 4.9912796...|{40, 4.9896988868...|{3787, 4.98562765...|{3158, 4.90989780...|     12|Dracula: Dead and...|       Comedy|Horror|\n",
            "|{6783, 5.83832550...|{7817, 5.78744888...|{2281, 5.70050907...|{1306, 5.68323564...|{8938, 5.38522243...|{149, 5.284942150...|{6428, 5.24378490...|{32582, 5.1256489...|{3543, 5.11967611...|{4450, 5.10552263...|{1226, 5.10373020...|{4741, 5.08006143...|{1604, 5.08001804...|{525, 5.061509609...|{2482, 5.02615165...|{7486, 5.00211572...|{72039, 4.9912796...|{40, 4.9896988868...|{3787, 4.98562765...|{3158, 4.90989780...|     13|        Balto (1995)|Adventure|Animati...|\n",
            "|{6783, 5.83832550...|{7817, 5.78744888...|{2281, 5.70050907...|{1306, 5.68323564...|{8938, 5.38522243...|{149, 5.284942150...|{6428, 5.24378490...|{32582, 5.1256489...|{3543, 5.11967611...|{4450, 5.10552263...|{1226, 5.10373020...|{4741, 5.08006143...|{1604, 5.08001804...|{525, 5.061509609...|{2482, 5.02615165...|{7486, 5.00211572...|{72039, 4.9912796...|{40, 4.9896988868...|{3787, 4.98562765...|{3158, 4.90989780...|     14|        Nixon (1995)|               Drama|\n",
            "|{6783, 5.83832550...|{7817, 5.78744888...|{2281, 5.70050907...|{1306, 5.68323564...|{8938, 5.38522243...|{149, 5.284942150...|{6428, 5.24378490...|{32582, 5.1256489...|{3543, 5.11967611...|{4450, 5.10552263...|{1226, 5.10373020...|{4741, 5.08006143...|{1604, 5.08001804...|{525, 5.061509609...|{2482, 5.02615165...|{7486, 5.00211572...|{72039, 4.9912796...|{40, 4.9896988868...|{3787, 4.98562765...|{3158, 4.90989780...|     15|Cutthroat Island ...|Action|Adventure|...|\n",
            "|{6783, 5.83832550...|{7817, 5.78744888...|{2281, 5.70050907...|{1306, 5.68323564...|{8938, 5.38522243...|{149, 5.284942150...|{6428, 5.24378490...|{32582, 5.1256489...|{3543, 5.11967611...|{4450, 5.10552263...|{1226, 5.10373020...|{4741, 5.08006143...|{1604, 5.08001804...|{525, 5.061509609...|{2482, 5.02615165...|{7486, 5.00211572...|{72039, 4.9912796...|{40, 4.9896988868...|{3787, 4.98562765...|{3158, 4.90989780...|     16|       Casino (1995)|         Crime|Drama|\n",
            "|{6783, 5.83832550...|{7817, 5.78744888...|{2281, 5.70050907...|{1306, 5.68323564...|{8938, 5.38522243...|{149, 5.284942150...|{6428, 5.24378490...|{32582, 5.1256489...|{3543, 5.11967611...|{4450, 5.10552263...|{1226, 5.10373020...|{4741, 5.08006143...|{1604, 5.08001804...|{525, 5.061509609...|{2482, 5.02615165...|{7486, 5.00211572...|{72039, 4.9912796...|{40, 4.9896988868...|{3787, 4.98562765...|{3158, 4.90989780...|     17|Sense and Sensibi...|       Drama|Romance|\n",
            "|{6783, 5.83832550...|{7817, 5.78744888...|{2281, 5.70050907...|{1306, 5.68323564...|{8938, 5.38522243...|{149, 5.284942150...|{6428, 5.24378490...|{32582, 5.1256489...|{3543, 5.11967611...|{4450, 5.10552263...|{1226, 5.10373020...|{4741, 5.08006143...|{1604, 5.08001804...|{525, 5.061509609...|{2482, 5.02615165...|{7486, 5.00211572...|{72039, 4.9912796...|{40, 4.9896988868...|{3787, 4.98562765...|{3158, 4.90989780...|     18|   Four Rooms (1995)|              Comedy|\n",
            "|{6783, 5.83832550...|{7817, 5.78744888...|{2281, 5.70050907...|{1306, 5.68323564...|{8938, 5.38522243...|{149, 5.284942150...|{6428, 5.24378490...|{32582, 5.1256489...|{3543, 5.11967611...|{4450, 5.10552263...|{1226, 5.10373020...|{4741, 5.08006143...|{1604, 5.08001804...|{525, 5.061509609...|{2482, 5.02615165...|{7486, 5.00211572...|{72039, 4.9912796...|{40, 4.9896988868...|{3787, 4.98562765...|{3158, 4.90989780...|     19|Ace Ventura: When...|              Comedy|\n",
            "|{6783, 5.83832550...|{7817, 5.78744888...|{2281, 5.70050907...|{1306, 5.68323564...|{8938, 5.38522243...|{149, 5.284942150...|{6428, 5.24378490...|{32582, 5.1256489...|{3543, 5.11967611...|{4450, 5.10552263...|{1226, 5.10373020...|{4741, 5.08006143...|{1604, 5.08001804...|{525, 5.061509609...|{2482, 5.02615165...|{7486, 5.00211572...|{72039, 4.9912796...|{40, 4.9896988868...|{3787, 4.98562765...|{3158, 4.90989780...|     20|  Money Train (1995)|Action|Comedy|Cri...|\n",
            "+--------------------+--------------------+--------------------+--------------------+--------------------+--------------------+--------------------+--------------------+--------------------+--------------------+--------------------+--------------------+--------------------+--------------------+--------------------+--------------------+--------------------+--------------------+--------------------+--------------------+-------+--------------------+--------------------+\n",
            "only showing top 20 rows\n",
            "\n"
          ]
        }
      ],
      "source": [
        "# Print the recommended movies for the new user with userId 162542.\n",
        "userRecs_joined.show()"
      ]
    },
    {
      "cell_type": "code",
      "execution_count": null,
      "metadata": {
        "id": "1nhi56ORrw8j"
      },
      "outputs": [],
      "source": []
    }
  ],
  "metadata": {
    "kernelspec": {
      "display_name": "PySpark",
      "language": "",
      "name": "pysparkkernel"
    },
    "language_info": {
      "codemirror_mode": {
        "name": "python",
        "version": 2
      },
      "mimetype": "text/x-python",
      "name": "pyspark",
      "pygments_lexer": "python2"
    },
    "colab": {
      "provenance": [],
      "include_colab_link": true
    }
  },
  "nbformat": 4,
  "nbformat_minor": 0
}