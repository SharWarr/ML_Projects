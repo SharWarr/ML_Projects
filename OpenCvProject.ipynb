{
  "nbformat": 4,
  "nbformat_minor": 0,
  "metadata": {
    "colab": {
      "provenance": [],
      "authorship_tag": "ABX9TyNKZiY07H/pXnIF0kcQqRU8",
      "include_colab_link": true
    },
    "kernelspec": {
      "name": "python3",
      "display_name": "Python 3"
    },
    "language_info": {
      "name": "python"
    }
  },
  "cells": [
    {
      "cell_type": "markdown",
      "metadata": {
        "id": "view-in-github",
        "colab_type": "text"
      },
      "source": [
        "<a href=\"https://colab.research.google.com/github/SharWarr/ML_Projects/blob/main/OpenCvProject.ipynb\" target=\"_parent\"><img src=\"https://colab.research.google.com/assets/colab-badge.svg\" alt=\"Open In Colab\"/></a>"
      ]
    },
    {
      "cell_type": "code",
      "execution_count": 1,
      "metadata": {
        "id": "R-pJQKcHd_D4"
      },
      "outputs": [],
      "source": [
        "import cv2"
      ]
    },
    {
      "cell_type": "code",
      "source": [
        "face_cascade = cv2.CascadeClassifier(\"/content/haarcascade_frontalface_default.xml\")"
      ],
      "metadata": {
        "id": "zJfFERj0eDfn"
      },
      "execution_count": 4,
      "outputs": []
    },
    {
      "cell_type": "code",
      "source": [
        "face_cascade"
      ],
      "metadata": {
        "colab": {
          "base_uri": "https://localhost:8080/"
        },
        "id": "iSb_VoaLebLV",
        "outputId": "7df7cb95-5e37-4e0e-85fc-00200a85faef"
      },
      "execution_count": 5,
      "outputs": [
        {
          "output_type": "execute_result",
          "data": {
            "text/plain": [
              "< cv2.CascadeClassifier 0x7f6fbdd2c5b0>"
            ]
          },
          "metadata": {},
          "execution_count": 5
        }
      ]
    },
    {
      "cell_type": "code",
      "source": [
        "img = cv2.imread(\"/content/IMG-20210617-WA0025.jpeg\")"
      ],
      "metadata": {
        "id": "_1FKnlM0et7h"
      },
      "execution_count": 11,
      "outputs": []
    },
    {
      "cell_type": "code",
      "source": [
        "faces = face_cascade.detectMultiScale(img,1.1,4)"
      ],
      "metadata": {
        "id": "B1rz9Xb_jyji"
      },
      "execution_count": 12,
      "outputs": []
    },
    {
      "cell_type": "code",
      "source": [
        "for(x,y,w,h) in faces:\n",
        "  cv2.rectangle(img,(x,y),(x+w, y+h), (255, 0, 0) ,2)"
      ],
      "metadata": {
        "id": "wWqvYHF-kD5J"
      },
      "execution_count": 13,
      "outputs": []
    },
    {
      "cell_type": "code",
      "source": [
        "cv2.imwrite(\"faceDetected.png\",img)\n",
        "print(\"PHOTO SUCCESSFULLY EXPORTED\")"
      ],
      "metadata": {
        "colab": {
          "base_uri": "https://localhost:8080/"
        },
        "id": "ZMzmatFFkfEE",
        "outputId": "1d872211-9fce-4749-a229-aa1940652d1e"
      },
      "execution_count": 14,
      "outputs": [
        {
          "output_type": "stream",
          "name": "stdout",
          "text": [
            "PHOTO SUCCESSFULLY EXPORTED\n"
          ]
        }
      ]
    }
  ]
}